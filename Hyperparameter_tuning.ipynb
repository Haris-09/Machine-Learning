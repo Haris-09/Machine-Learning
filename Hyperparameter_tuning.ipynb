{
  "nbformat": 4,
  "nbformat_minor": 0,
  "metadata": {
    "colab": {
      "provenance": [],
      "authorship_tag": "ABX9TyPctdwHuWcL/dFm0/NcV9rM",
      "include_colab_link": true
    },
    "kernelspec": {
      "name": "python3",
      "display_name": "Python 3"
    },
    "language_info": {
      "name": "python"
    }
  },
  "cells": [
    {
      "cell_type": "markdown",
      "metadata": {
        "id": "view-in-github",
        "colab_type": "text"
      },
      "source": [
        "<a href=\"https://colab.research.google.com/github/Haris-09/Machine-Learning/blob/main/Hyperparameter_tuning.ipynb\" target=\"_parent\"><img src=\"https://colab.research.google.com/assets/colab-badge.svg\" alt=\"Open In Colab\"/></a>"
      ]
    },
    {
      "cell_type": "code",
      "source": [
        "import numpy as np\n",
        "import pandas as pd\n",
        "\n",
        "from sklearn.preprocessing import LabelEncoder\n",
        "from sklearn.model_selection import train_test_split, cross_val_score, StratifiedKFold, LeaveOneOut, RepeatedKFold, GroupKFold, TimeSeriesSplit, GridSearchCV\n",
        "from sklearn.neighbors import KNeighborsClassifier\n",
        "from sklearn.metrics import accuracy_score"
      ],
      "metadata": {
        "id": "AIt2q1e4swDB"
      },
      "execution_count": 45,
      "outputs": []
    },
    {
      "cell_type": "code",
      "source": [
        "personality = pd.read_csv('https://raw.githubusercontent.com/Haris-09/Machine-Learning/refs/heads/main/Datasets/personality_dataset.csv')\n",
        "personality.head()"
      ],
      "metadata": {
        "colab": {
          "base_uri": "https://localhost:8080/",
          "height": 206
        },
        "id": "ZQATdpqwLeE3",
        "outputId": "86d73c24-b762-499f-9459-411ab31dad30"
      },
      "execution_count": 21,
      "outputs": [
        {
          "output_type": "execute_result",
          "data": {
            "text/plain": [
              "   Time_spent_Alone Stage_fear  Social_event_attendance  Going_outside  \\\n",
              "0               4.0         No                      4.0            6.0   \n",
              "1               9.0        Yes                      0.0            0.0   \n",
              "2               9.0        Yes                      1.0            2.0   \n",
              "3               0.0         No                      6.0            7.0   \n",
              "4               3.0         No                      9.0            4.0   \n",
              "\n",
              "  Drained_after_socializing  Friends_circle_size  Post_frequency Personality  \n",
              "0                        No                 13.0             5.0   Extrovert  \n",
              "1                       Yes                  0.0             3.0   Introvert  \n",
              "2                       Yes                  5.0             2.0   Introvert  \n",
              "3                        No                 14.0             8.0   Extrovert  \n",
              "4                        No                  8.0             5.0   Extrovert  "
            ],
            "text/html": [
              "\n",
              "  <div id=\"df-f30ce4e8-0875-4233-aedc-4a5b91244cc4\" class=\"colab-df-container\">\n",
              "    <div>\n",
              "<style scoped>\n",
              "    .dataframe tbody tr th:only-of-type {\n",
              "        vertical-align: middle;\n",
              "    }\n",
              "\n",
              "    .dataframe tbody tr th {\n",
              "        vertical-align: top;\n",
              "    }\n",
              "\n",
              "    .dataframe thead th {\n",
              "        text-align: right;\n",
              "    }\n",
              "</style>\n",
              "<table border=\"1\" class=\"dataframe\">\n",
              "  <thead>\n",
              "    <tr style=\"text-align: right;\">\n",
              "      <th></th>\n",
              "      <th>Time_spent_Alone</th>\n",
              "      <th>Stage_fear</th>\n",
              "      <th>Social_event_attendance</th>\n",
              "      <th>Going_outside</th>\n",
              "      <th>Drained_after_socializing</th>\n",
              "      <th>Friends_circle_size</th>\n",
              "      <th>Post_frequency</th>\n",
              "      <th>Personality</th>\n",
              "    </tr>\n",
              "  </thead>\n",
              "  <tbody>\n",
              "    <tr>\n",
              "      <th>0</th>\n",
              "      <td>4.0</td>\n",
              "      <td>No</td>\n",
              "      <td>4.0</td>\n",
              "      <td>6.0</td>\n",
              "      <td>No</td>\n",
              "      <td>13.0</td>\n",
              "      <td>5.0</td>\n",
              "      <td>Extrovert</td>\n",
              "    </tr>\n",
              "    <tr>\n",
              "      <th>1</th>\n",
              "      <td>9.0</td>\n",
              "      <td>Yes</td>\n",
              "      <td>0.0</td>\n",
              "      <td>0.0</td>\n",
              "      <td>Yes</td>\n",
              "      <td>0.0</td>\n",
              "      <td>3.0</td>\n",
              "      <td>Introvert</td>\n",
              "    </tr>\n",
              "    <tr>\n",
              "      <th>2</th>\n",
              "      <td>9.0</td>\n",
              "      <td>Yes</td>\n",
              "      <td>1.0</td>\n",
              "      <td>2.0</td>\n",
              "      <td>Yes</td>\n",
              "      <td>5.0</td>\n",
              "      <td>2.0</td>\n",
              "      <td>Introvert</td>\n",
              "    </tr>\n",
              "    <tr>\n",
              "      <th>3</th>\n",
              "      <td>0.0</td>\n",
              "      <td>No</td>\n",
              "      <td>6.0</td>\n",
              "      <td>7.0</td>\n",
              "      <td>No</td>\n",
              "      <td>14.0</td>\n",
              "      <td>8.0</td>\n",
              "      <td>Extrovert</td>\n",
              "    </tr>\n",
              "    <tr>\n",
              "      <th>4</th>\n",
              "      <td>3.0</td>\n",
              "      <td>No</td>\n",
              "      <td>9.0</td>\n",
              "      <td>4.0</td>\n",
              "      <td>No</td>\n",
              "      <td>8.0</td>\n",
              "      <td>5.0</td>\n",
              "      <td>Extrovert</td>\n",
              "    </tr>\n",
              "  </tbody>\n",
              "</table>\n",
              "</div>\n",
              "    <div class=\"colab-df-buttons\">\n",
              "\n",
              "  <div class=\"colab-df-container\">\n",
              "    <button class=\"colab-df-convert\" onclick=\"convertToInteractive('df-f30ce4e8-0875-4233-aedc-4a5b91244cc4')\"\n",
              "            title=\"Convert this dataframe to an interactive table.\"\n",
              "            style=\"display:none;\">\n",
              "\n",
              "  <svg xmlns=\"http://www.w3.org/2000/svg\" height=\"24px\" viewBox=\"0 -960 960 960\">\n",
              "    <path d=\"M120-120v-720h720v720H120Zm60-500h600v-160H180v160Zm220 220h160v-160H400v160Zm0 220h160v-160H400v160ZM180-400h160v-160H180v160Zm440 0h160v-160H620v160ZM180-180h160v-160H180v160Zm440 0h160v-160H620v160Z\"/>\n",
              "  </svg>\n",
              "    </button>\n",
              "\n",
              "  <style>\n",
              "    .colab-df-container {\n",
              "      display:flex;\n",
              "      gap: 12px;\n",
              "    }\n",
              "\n",
              "    .colab-df-convert {\n",
              "      background-color: #E8F0FE;\n",
              "      border: none;\n",
              "      border-radius: 50%;\n",
              "      cursor: pointer;\n",
              "      display: none;\n",
              "      fill: #1967D2;\n",
              "      height: 32px;\n",
              "      padding: 0 0 0 0;\n",
              "      width: 32px;\n",
              "    }\n",
              "\n",
              "    .colab-df-convert:hover {\n",
              "      background-color: #E2EBFA;\n",
              "      box-shadow: 0px 1px 2px rgba(60, 64, 67, 0.3), 0px 1px 3px 1px rgba(60, 64, 67, 0.15);\n",
              "      fill: #174EA6;\n",
              "    }\n",
              "\n",
              "    .colab-df-buttons div {\n",
              "      margin-bottom: 4px;\n",
              "    }\n",
              "\n",
              "    [theme=dark] .colab-df-convert {\n",
              "      background-color: #3B4455;\n",
              "      fill: #D2E3FC;\n",
              "    }\n",
              "\n",
              "    [theme=dark] .colab-df-convert:hover {\n",
              "      background-color: #434B5C;\n",
              "      box-shadow: 0px 1px 3px 1px rgba(0, 0, 0, 0.15);\n",
              "      filter: drop-shadow(0px 1px 2px rgba(0, 0, 0, 0.3));\n",
              "      fill: #FFFFFF;\n",
              "    }\n",
              "  </style>\n",
              "\n",
              "    <script>\n",
              "      const buttonEl =\n",
              "        document.querySelector('#df-f30ce4e8-0875-4233-aedc-4a5b91244cc4 button.colab-df-convert');\n",
              "      buttonEl.style.display =\n",
              "        google.colab.kernel.accessAllowed ? 'block' : 'none';\n",
              "\n",
              "      async function convertToInteractive(key) {\n",
              "        const element = document.querySelector('#df-f30ce4e8-0875-4233-aedc-4a5b91244cc4');\n",
              "        const dataTable =\n",
              "          await google.colab.kernel.invokeFunction('convertToInteractive',\n",
              "                                                    [key], {});\n",
              "        if (!dataTable) return;\n",
              "\n",
              "        const docLinkHtml = 'Like what you see? Visit the ' +\n",
              "          '<a target=\"_blank\" href=https://colab.research.google.com/notebooks/data_table.ipynb>data table notebook</a>'\n",
              "          + ' to learn more about interactive tables.';\n",
              "        element.innerHTML = '';\n",
              "        dataTable['output_type'] = 'display_data';\n",
              "        await google.colab.output.renderOutput(dataTable, element);\n",
              "        const docLink = document.createElement('div');\n",
              "        docLink.innerHTML = docLinkHtml;\n",
              "        element.appendChild(docLink);\n",
              "      }\n",
              "    </script>\n",
              "  </div>\n",
              "\n",
              "\n",
              "    <div id=\"df-333addf6-7f50-4d81-9128-2367d59fb848\">\n",
              "      <button class=\"colab-df-quickchart\" onclick=\"quickchart('df-333addf6-7f50-4d81-9128-2367d59fb848')\"\n",
              "                title=\"Suggest charts\"\n",
              "                style=\"display:none;\">\n",
              "\n",
              "<svg xmlns=\"http://www.w3.org/2000/svg\" height=\"24px\"viewBox=\"0 0 24 24\"\n",
              "     width=\"24px\">\n",
              "    <g>\n",
              "        <path d=\"M19 3H5c-1.1 0-2 .9-2 2v14c0 1.1.9 2 2 2h14c1.1 0 2-.9 2-2V5c0-1.1-.9-2-2-2zM9 17H7v-7h2v7zm4 0h-2V7h2v10zm4 0h-2v-4h2v4z\"/>\n",
              "    </g>\n",
              "</svg>\n",
              "      </button>\n",
              "\n",
              "<style>\n",
              "  .colab-df-quickchart {\n",
              "      --bg-color: #E8F0FE;\n",
              "      --fill-color: #1967D2;\n",
              "      --hover-bg-color: #E2EBFA;\n",
              "      --hover-fill-color: #174EA6;\n",
              "      --disabled-fill-color: #AAA;\n",
              "      --disabled-bg-color: #DDD;\n",
              "  }\n",
              "\n",
              "  [theme=dark] .colab-df-quickchart {\n",
              "      --bg-color: #3B4455;\n",
              "      --fill-color: #D2E3FC;\n",
              "      --hover-bg-color: #434B5C;\n",
              "      --hover-fill-color: #FFFFFF;\n",
              "      --disabled-bg-color: #3B4455;\n",
              "      --disabled-fill-color: #666;\n",
              "  }\n",
              "\n",
              "  .colab-df-quickchart {\n",
              "    background-color: var(--bg-color);\n",
              "    border: none;\n",
              "    border-radius: 50%;\n",
              "    cursor: pointer;\n",
              "    display: none;\n",
              "    fill: var(--fill-color);\n",
              "    height: 32px;\n",
              "    padding: 0;\n",
              "    width: 32px;\n",
              "  }\n",
              "\n",
              "  .colab-df-quickchart:hover {\n",
              "    background-color: var(--hover-bg-color);\n",
              "    box-shadow: 0 1px 2px rgba(60, 64, 67, 0.3), 0 1px 3px 1px rgba(60, 64, 67, 0.15);\n",
              "    fill: var(--button-hover-fill-color);\n",
              "  }\n",
              "\n",
              "  .colab-df-quickchart-complete:disabled,\n",
              "  .colab-df-quickchart-complete:disabled:hover {\n",
              "    background-color: var(--disabled-bg-color);\n",
              "    fill: var(--disabled-fill-color);\n",
              "    box-shadow: none;\n",
              "  }\n",
              "\n",
              "  .colab-df-spinner {\n",
              "    border: 2px solid var(--fill-color);\n",
              "    border-color: transparent;\n",
              "    border-bottom-color: var(--fill-color);\n",
              "    animation:\n",
              "      spin 1s steps(1) infinite;\n",
              "  }\n",
              "\n",
              "  @keyframes spin {\n",
              "    0% {\n",
              "      border-color: transparent;\n",
              "      border-bottom-color: var(--fill-color);\n",
              "      border-left-color: var(--fill-color);\n",
              "    }\n",
              "    20% {\n",
              "      border-color: transparent;\n",
              "      border-left-color: var(--fill-color);\n",
              "      border-top-color: var(--fill-color);\n",
              "    }\n",
              "    30% {\n",
              "      border-color: transparent;\n",
              "      border-left-color: var(--fill-color);\n",
              "      border-top-color: var(--fill-color);\n",
              "      border-right-color: var(--fill-color);\n",
              "    }\n",
              "    40% {\n",
              "      border-color: transparent;\n",
              "      border-right-color: var(--fill-color);\n",
              "      border-top-color: var(--fill-color);\n",
              "    }\n",
              "    60% {\n",
              "      border-color: transparent;\n",
              "      border-right-color: var(--fill-color);\n",
              "    }\n",
              "    80% {\n",
              "      border-color: transparent;\n",
              "      border-right-color: var(--fill-color);\n",
              "      border-bottom-color: var(--fill-color);\n",
              "    }\n",
              "    90% {\n",
              "      border-color: transparent;\n",
              "      border-bottom-color: var(--fill-color);\n",
              "    }\n",
              "  }\n",
              "</style>\n",
              "\n",
              "      <script>\n",
              "        async function quickchart(key) {\n",
              "          const quickchartButtonEl =\n",
              "            document.querySelector('#' + key + ' button');\n",
              "          quickchartButtonEl.disabled = true;  // To prevent multiple clicks.\n",
              "          quickchartButtonEl.classList.add('colab-df-spinner');\n",
              "          try {\n",
              "            const charts = await google.colab.kernel.invokeFunction(\n",
              "                'suggestCharts', [key], {});\n",
              "          } catch (error) {\n",
              "            console.error('Error during call to suggestCharts:', error);\n",
              "          }\n",
              "          quickchartButtonEl.classList.remove('colab-df-spinner');\n",
              "          quickchartButtonEl.classList.add('colab-df-quickchart-complete');\n",
              "        }\n",
              "        (() => {\n",
              "          let quickchartButtonEl =\n",
              "            document.querySelector('#df-333addf6-7f50-4d81-9128-2367d59fb848 button');\n",
              "          quickchartButtonEl.style.display =\n",
              "            google.colab.kernel.accessAllowed ? 'block' : 'none';\n",
              "        })();\n",
              "      </script>\n",
              "    </div>\n",
              "\n",
              "    </div>\n",
              "  </div>\n"
            ],
            "application/vnd.google.colaboratory.intrinsic+json": {
              "type": "dataframe",
              "variable_name": "personality",
              "summary": "{\n  \"name\": \"personality\",\n  \"rows\": 2900,\n  \"fields\": [\n    {\n      \"column\": \"Time_spent_Alone\",\n      \"properties\": {\n        \"dtype\": \"number\",\n        \"std\": 3.4411804188954194,\n        \"min\": 0.0,\n        \"max\": 11.0,\n        \"num_unique_values\": 13,\n        \"samples\": [\n          7.0,\n          8.0,\n          4.0\n        ],\n        \"semantic_type\": \"\",\n        \"description\": \"\"\n      }\n    },\n    {\n      \"column\": \"Stage_fear\",\n      \"properties\": {\n        \"dtype\": \"category\",\n        \"num_unique_values\": 2,\n        \"samples\": [\n          \"Yes\",\n          \"No\"\n        ],\n        \"semantic_type\": \"\",\n        \"description\": \"\"\n      }\n    },\n    {\n      \"column\": \"Social_event_attendance\",\n      \"properties\": {\n        \"dtype\": \"number\",\n        \"std\": 2.8726078948864857,\n        \"min\": 0.0,\n        \"max\": 10.0,\n        \"num_unique_values\": 12,\n        \"samples\": [\n          10.0,\n          2.0\n        ],\n        \"semantic_type\": \"\",\n        \"description\": \"\"\n      }\n    },\n    {\n      \"column\": \"Going_outside\",\n      \"properties\": {\n        \"dtype\": \"number\",\n        \"std\": 2.2215973978818186,\n        \"min\": 0.0,\n        \"max\": 7.0,\n        \"num_unique_values\": 8,\n        \"samples\": [\n          0.0,\n          5.0\n        ],\n        \"semantic_type\": \"\",\n        \"description\": \"\"\n      }\n    },\n    {\n      \"column\": \"Drained_after_socializing\",\n      \"properties\": {\n        \"dtype\": \"category\",\n        \"num_unique_values\": 2,\n        \"samples\": [\n          \"Yes\",\n          \"No\"\n        ],\n        \"semantic_type\": \"\",\n        \"description\": \"\"\n      }\n    },\n    {\n      \"column\": \"Friends_circle_size\",\n      \"properties\": {\n        \"dtype\": \"number\",\n        \"std\": 4.2323404202509165,\n        \"min\": 0.0,\n        \"max\": 15.0,\n        \"num_unique_values\": 17,\n        \"samples\": [\n          13.0,\n          0.0\n        ],\n        \"semantic_type\": \"\",\n        \"description\": \"\"\n      }\n    },\n    {\n      \"column\": \"Post_frequency\",\n      \"properties\": {\n        \"dtype\": \"number\",\n        \"std\": 2.8935865769101947,\n        \"min\": 0.0,\n        \"max\": 10.0,\n        \"num_unique_values\": 12,\n        \"samples\": [\n          9.0,\n          1.0\n        ],\n        \"semantic_type\": \"\",\n        \"description\": \"\"\n      }\n    },\n    {\n      \"column\": \"Personality\",\n      \"properties\": {\n        \"dtype\": \"category\",\n        \"num_unique_values\": 2,\n        \"samples\": [\n          \"Introvert\",\n          \"Extrovert\"\n        ],\n        \"semantic_type\": \"\",\n        \"description\": \"\"\n      }\n    }\n  ]\n}"
            }
          },
          "metadata": {},
          "execution_count": 21
        }
      ]
    },
    {
      "cell_type": "code",
      "source": [
        "personality.dtypes"
      ],
      "metadata": {
        "colab": {
          "base_uri": "https://localhost:8080/",
          "height": 335
        },
        "id": "C_xX26kOMH3V",
        "outputId": "b3512811-fa02-48ec-d715-c880651a7d24"
      },
      "execution_count": 22,
      "outputs": [
        {
          "output_type": "execute_result",
          "data": {
            "text/plain": [
              "Time_spent_Alone             float64\n",
              "Stage_fear                    object\n",
              "Social_event_attendance      float64\n",
              "Going_outside                float64\n",
              "Drained_after_socializing     object\n",
              "Friends_circle_size          float64\n",
              "Post_frequency               float64\n",
              "Personality                   object\n",
              "dtype: object"
            ],
            "text/html": [
              "<div>\n",
              "<style scoped>\n",
              "    .dataframe tbody tr th:only-of-type {\n",
              "        vertical-align: middle;\n",
              "    }\n",
              "\n",
              "    .dataframe tbody tr th {\n",
              "        vertical-align: top;\n",
              "    }\n",
              "\n",
              "    .dataframe thead th {\n",
              "        text-align: right;\n",
              "    }\n",
              "</style>\n",
              "<table border=\"1\" class=\"dataframe\">\n",
              "  <thead>\n",
              "    <tr style=\"text-align: right;\">\n",
              "      <th></th>\n",
              "      <th>0</th>\n",
              "    </tr>\n",
              "  </thead>\n",
              "  <tbody>\n",
              "    <tr>\n",
              "      <th>Time_spent_Alone</th>\n",
              "      <td>float64</td>\n",
              "    </tr>\n",
              "    <tr>\n",
              "      <th>Stage_fear</th>\n",
              "      <td>object</td>\n",
              "    </tr>\n",
              "    <tr>\n",
              "      <th>Social_event_attendance</th>\n",
              "      <td>float64</td>\n",
              "    </tr>\n",
              "    <tr>\n",
              "      <th>Going_outside</th>\n",
              "      <td>float64</td>\n",
              "    </tr>\n",
              "    <tr>\n",
              "      <th>Drained_after_socializing</th>\n",
              "      <td>object</td>\n",
              "    </tr>\n",
              "    <tr>\n",
              "      <th>Friends_circle_size</th>\n",
              "      <td>float64</td>\n",
              "    </tr>\n",
              "    <tr>\n",
              "      <th>Post_frequency</th>\n",
              "      <td>float64</td>\n",
              "    </tr>\n",
              "    <tr>\n",
              "      <th>Personality</th>\n",
              "      <td>object</td>\n",
              "    </tr>\n",
              "  </tbody>\n",
              "</table>\n",
              "</div><br><label><b>dtype:</b> object</label>"
            ]
          },
          "metadata": {},
          "execution_count": 22
        }
      ]
    },
    {
      "cell_type": "code",
      "source": [
        "colum = ['Stage_fear', 'Drained_after_socializing', 'Personality']\n",
        "\n",
        "le = LabelEncoder()\n",
        "for col in colum:\n",
        "    personality[col] = le.fit_transform(personality[col])\n",
        "\n",
        "personality.head()"
      ],
      "metadata": {
        "colab": {
          "base_uri": "https://localhost:8080/",
          "height": 206
        },
        "id": "rTXpwyzaLq4T",
        "outputId": "e5037025-ecee-4417-8433-605b44be1687"
      },
      "execution_count": 23,
      "outputs": [
        {
          "output_type": "execute_result",
          "data": {
            "text/plain": [
              "   Time_spent_Alone  Stage_fear  Social_event_attendance  Going_outside  \\\n",
              "0               4.0           0                      4.0            6.0   \n",
              "1               9.0           1                      0.0            0.0   \n",
              "2               9.0           1                      1.0            2.0   \n",
              "3               0.0           0                      6.0            7.0   \n",
              "4               3.0           0                      9.0            4.0   \n",
              "\n",
              "   Drained_after_socializing  Friends_circle_size  Post_frequency  Personality  \n",
              "0                          0                 13.0             5.0            0  \n",
              "1                          1                  0.0             3.0            1  \n",
              "2                          1                  5.0             2.0            1  \n",
              "3                          0                 14.0             8.0            0  \n",
              "4                          0                  8.0             5.0            0  "
            ],
            "text/html": [
              "\n",
              "  <div id=\"df-9bd31164-4542-445f-bff6-9caddc37ca1d\" class=\"colab-df-container\">\n",
              "    <div>\n",
              "<style scoped>\n",
              "    .dataframe tbody tr th:only-of-type {\n",
              "        vertical-align: middle;\n",
              "    }\n",
              "\n",
              "    .dataframe tbody tr th {\n",
              "        vertical-align: top;\n",
              "    }\n",
              "\n",
              "    .dataframe thead th {\n",
              "        text-align: right;\n",
              "    }\n",
              "</style>\n",
              "<table border=\"1\" class=\"dataframe\">\n",
              "  <thead>\n",
              "    <tr style=\"text-align: right;\">\n",
              "      <th></th>\n",
              "      <th>Time_spent_Alone</th>\n",
              "      <th>Stage_fear</th>\n",
              "      <th>Social_event_attendance</th>\n",
              "      <th>Going_outside</th>\n",
              "      <th>Drained_after_socializing</th>\n",
              "      <th>Friends_circle_size</th>\n",
              "      <th>Post_frequency</th>\n",
              "      <th>Personality</th>\n",
              "    </tr>\n",
              "  </thead>\n",
              "  <tbody>\n",
              "    <tr>\n",
              "      <th>0</th>\n",
              "      <td>4.0</td>\n",
              "      <td>0</td>\n",
              "      <td>4.0</td>\n",
              "      <td>6.0</td>\n",
              "      <td>0</td>\n",
              "      <td>13.0</td>\n",
              "      <td>5.0</td>\n",
              "      <td>0</td>\n",
              "    </tr>\n",
              "    <tr>\n",
              "      <th>1</th>\n",
              "      <td>9.0</td>\n",
              "      <td>1</td>\n",
              "      <td>0.0</td>\n",
              "      <td>0.0</td>\n",
              "      <td>1</td>\n",
              "      <td>0.0</td>\n",
              "      <td>3.0</td>\n",
              "      <td>1</td>\n",
              "    </tr>\n",
              "    <tr>\n",
              "      <th>2</th>\n",
              "      <td>9.0</td>\n",
              "      <td>1</td>\n",
              "      <td>1.0</td>\n",
              "      <td>2.0</td>\n",
              "      <td>1</td>\n",
              "      <td>5.0</td>\n",
              "      <td>2.0</td>\n",
              "      <td>1</td>\n",
              "    </tr>\n",
              "    <tr>\n",
              "      <th>3</th>\n",
              "      <td>0.0</td>\n",
              "      <td>0</td>\n",
              "      <td>6.0</td>\n",
              "      <td>7.0</td>\n",
              "      <td>0</td>\n",
              "      <td>14.0</td>\n",
              "      <td>8.0</td>\n",
              "      <td>0</td>\n",
              "    </tr>\n",
              "    <tr>\n",
              "      <th>4</th>\n",
              "      <td>3.0</td>\n",
              "      <td>0</td>\n",
              "      <td>9.0</td>\n",
              "      <td>4.0</td>\n",
              "      <td>0</td>\n",
              "      <td>8.0</td>\n",
              "      <td>5.0</td>\n",
              "      <td>0</td>\n",
              "    </tr>\n",
              "  </tbody>\n",
              "</table>\n",
              "</div>\n",
              "    <div class=\"colab-df-buttons\">\n",
              "\n",
              "  <div class=\"colab-df-container\">\n",
              "    <button class=\"colab-df-convert\" onclick=\"convertToInteractive('df-9bd31164-4542-445f-bff6-9caddc37ca1d')\"\n",
              "            title=\"Convert this dataframe to an interactive table.\"\n",
              "            style=\"display:none;\">\n",
              "\n",
              "  <svg xmlns=\"http://www.w3.org/2000/svg\" height=\"24px\" viewBox=\"0 -960 960 960\">\n",
              "    <path d=\"M120-120v-720h720v720H120Zm60-500h600v-160H180v160Zm220 220h160v-160H400v160Zm0 220h160v-160H400v160ZM180-400h160v-160H180v160Zm440 0h160v-160H620v160ZM180-180h160v-160H180v160Zm440 0h160v-160H620v160Z\"/>\n",
              "  </svg>\n",
              "    </button>\n",
              "\n",
              "  <style>\n",
              "    .colab-df-container {\n",
              "      display:flex;\n",
              "      gap: 12px;\n",
              "    }\n",
              "\n",
              "    .colab-df-convert {\n",
              "      background-color: #E8F0FE;\n",
              "      border: none;\n",
              "      border-radius: 50%;\n",
              "      cursor: pointer;\n",
              "      display: none;\n",
              "      fill: #1967D2;\n",
              "      height: 32px;\n",
              "      padding: 0 0 0 0;\n",
              "      width: 32px;\n",
              "    }\n",
              "\n",
              "    .colab-df-convert:hover {\n",
              "      background-color: #E2EBFA;\n",
              "      box-shadow: 0px 1px 2px rgba(60, 64, 67, 0.3), 0px 1px 3px 1px rgba(60, 64, 67, 0.15);\n",
              "      fill: #174EA6;\n",
              "    }\n",
              "\n",
              "    .colab-df-buttons div {\n",
              "      margin-bottom: 4px;\n",
              "    }\n",
              "\n",
              "    [theme=dark] .colab-df-convert {\n",
              "      background-color: #3B4455;\n",
              "      fill: #D2E3FC;\n",
              "    }\n",
              "\n",
              "    [theme=dark] .colab-df-convert:hover {\n",
              "      background-color: #434B5C;\n",
              "      box-shadow: 0px 1px 3px 1px rgba(0, 0, 0, 0.15);\n",
              "      filter: drop-shadow(0px 1px 2px rgba(0, 0, 0, 0.3));\n",
              "      fill: #FFFFFF;\n",
              "    }\n",
              "  </style>\n",
              "\n",
              "    <script>\n",
              "      const buttonEl =\n",
              "        document.querySelector('#df-9bd31164-4542-445f-bff6-9caddc37ca1d button.colab-df-convert');\n",
              "      buttonEl.style.display =\n",
              "        google.colab.kernel.accessAllowed ? 'block' : 'none';\n",
              "\n",
              "      async function convertToInteractive(key) {\n",
              "        const element = document.querySelector('#df-9bd31164-4542-445f-bff6-9caddc37ca1d');\n",
              "        const dataTable =\n",
              "          await google.colab.kernel.invokeFunction('convertToInteractive',\n",
              "                                                    [key], {});\n",
              "        if (!dataTable) return;\n",
              "\n",
              "        const docLinkHtml = 'Like what you see? Visit the ' +\n",
              "          '<a target=\"_blank\" href=https://colab.research.google.com/notebooks/data_table.ipynb>data table notebook</a>'\n",
              "          + ' to learn more about interactive tables.';\n",
              "        element.innerHTML = '';\n",
              "        dataTable['output_type'] = 'display_data';\n",
              "        await google.colab.output.renderOutput(dataTable, element);\n",
              "        const docLink = document.createElement('div');\n",
              "        docLink.innerHTML = docLinkHtml;\n",
              "        element.appendChild(docLink);\n",
              "      }\n",
              "    </script>\n",
              "  </div>\n",
              "\n",
              "\n",
              "    <div id=\"df-96461394-76a3-42dd-a998-ac0fc6a9e907\">\n",
              "      <button class=\"colab-df-quickchart\" onclick=\"quickchart('df-96461394-76a3-42dd-a998-ac0fc6a9e907')\"\n",
              "                title=\"Suggest charts\"\n",
              "                style=\"display:none;\">\n",
              "\n",
              "<svg xmlns=\"http://www.w3.org/2000/svg\" height=\"24px\"viewBox=\"0 0 24 24\"\n",
              "     width=\"24px\">\n",
              "    <g>\n",
              "        <path d=\"M19 3H5c-1.1 0-2 .9-2 2v14c0 1.1.9 2 2 2h14c1.1 0 2-.9 2-2V5c0-1.1-.9-2-2-2zM9 17H7v-7h2v7zm4 0h-2V7h2v10zm4 0h-2v-4h2v4z\"/>\n",
              "    </g>\n",
              "</svg>\n",
              "      </button>\n",
              "\n",
              "<style>\n",
              "  .colab-df-quickchart {\n",
              "      --bg-color: #E8F0FE;\n",
              "      --fill-color: #1967D2;\n",
              "      --hover-bg-color: #E2EBFA;\n",
              "      --hover-fill-color: #174EA6;\n",
              "      --disabled-fill-color: #AAA;\n",
              "      --disabled-bg-color: #DDD;\n",
              "  }\n",
              "\n",
              "  [theme=dark] .colab-df-quickchart {\n",
              "      --bg-color: #3B4455;\n",
              "      --fill-color: #D2E3FC;\n",
              "      --hover-bg-color: #434B5C;\n",
              "      --hover-fill-color: #FFFFFF;\n",
              "      --disabled-bg-color: #3B4455;\n",
              "      --disabled-fill-color: #666;\n",
              "  }\n",
              "\n",
              "  .colab-df-quickchart {\n",
              "    background-color: var(--bg-color);\n",
              "    border: none;\n",
              "    border-radius: 50%;\n",
              "    cursor: pointer;\n",
              "    display: none;\n",
              "    fill: var(--fill-color);\n",
              "    height: 32px;\n",
              "    padding: 0;\n",
              "    width: 32px;\n",
              "  }\n",
              "\n",
              "  .colab-df-quickchart:hover {\n",
              "    background-color: var(--hover-bg-color);\n",
              "    box-shadow: 0 1px 2px rgba(60, 64, 67, 0.3), 0 1px 3px 1px rgba(60, 64, 67, 0.15);\n",
              "    fill: var(--button-hover-fill-color);\n",
              "  }\n",
              "\n",
              "  .colab-df-quickchart-complete:disabled,\n",
              "  .colab-df-quickchart-complete:disabled:hover {\n",
              "    background-color: var(--disabled-bg-color);\n",
              "    fill: var(--disabled-fill-color);\n",
              "    box-shadow: none;\n",
              "  }\n",
              "\n",
              "  .colab-df-spinner {\n",
              "    border: 2px solid var(--fill-color);\n",
              "    border-color: transparent;\n",
              "    border-bottom-color: var(--fill-color);\n",
              "    animation:\n",
              "      spin 1s steps(1) infinite;\n",
              "  }\n",
              "\n",
              "  @keyframes spin {\n",
              "    0% {\n",
              "      border-color: transparent;\n",
              "      border-bottom-color: var(--fill-color);\n",
              "      border-left-color: var(--fill-color);\n",
              "    }\n",
              "    20% {\n",
              "      border-color: transparent;\n",
              "      border-left-color: var(--fill-color);\n",
              "      border-top-color: var(--fill-color);\n",
              "    }\n",
              "    30% {\n",
              "      border-color: transparent;\n",
              "      border-left-color: var(--fill-color);\n",
              "      border-top-color: var(--fill-color);\n",
              "      border-right-color: var(--fill-color);\n",
              "    }\n",
              "    40% {\n",
              "      border-color: transparent;\n",
              "      border-right-color: var(--fill-color);\n",
              "      border-top-color: var(--fill-color);\n",
              "    }\n",
              "    60% {\n",
              "      border-color: transparent;\n",
              "      border-right-color: var(--fill-color);\n",
              "    }\n",
              "    80% {\n",
              "      border-color: transparent;\n",
              "      border-right-color: var(--fill-color);\n",
              "      border-bottom-color: var(--fill-color);\n",
              "    }\n",
              "    90% {\n",
              "      border-color: transparent;\n",
              "      border-bottom-color: var(--fill-color);\n",
              "    }\n",
              "  }\n",
              "</style>\n",
              "\n",
              "      <script>\n",
              "        async function quickchart(key) {\n",
              "          const quickchartButtonEl =\n",
              "            document.querySelector('#' + key + ' button');\n",
              "          quickchartButtonEl.disabled = true;  // To prevent multiple clicks.\n",
              "          quickchartButtonEl.classList.add('colab-df-spinner');\n",
              "          try {\n",
              "            const charts = await google.colab.kernel.invokeFunction(\n",
              "                'suggestCharts', [key], {});\n",
              "          } catch (error) {\n",
              "            console.error('Error during call to suggestCharts:', error);\n",
              "          }\n",
              "          quickchartButtonEl.classList.remove('colab-df-spinner');\n",
              "          quickchartButtonEl.classList.add('colab-df-quickchart-complete');\n",
              "        }\n",
              "        (() => {\n",
              "          let quickchartButtonEl =\n",
              "            document.querySelector('#df-96461394-76a3-42dd-a998-ac0fc6a9e907 button');\n",
              "          quickchartButtonEl.style.display =\n",
              "            google.colab.kernel.accessAllowed ? 'block' : 'none';\n",
              "        })();\n",
              "      </script>\n",
              "    </div>\n",
              "\n",
              "    </div>\n",
              "  </div>\n"
            ],
            "application/vnd.google.colaboratory.intrinsic+json": {
              "type": "dataframe",
              "variable_name": "personality",
              "summary": "{\n  \"name\": \"personality\",\n  \"rows\": 2900,\n  \"fields\": [\n    {\n      \"column\": \"Time_spent_Alone\",\n      \"properties\": {\n        \"dtype\": \"number\",\n        \"std\": 3.4411804188954194,\n        \"min\": 0.0,\n        \"max\": 11.0,\n        \"num_unique_values\": 13,\n        \"samples\": [\n          7.0,\n          8.0,\n          4.0\n        ],\n        \"semantic_type\": \"\",\n        \"description\": \"\"\n      }\n    },\n    {\n      \"column\": \"Stage_fear\",\n      \"properties\": {\n        \"dtype\": \"number\",\n        \"std\": 0,\n        \"min\": 0,\n        \"max\": 1,\n        \"num_unique_values\": 2,\n        \"samples\": [\n          1,\n          0\n        ],\n        \"semantic_type\": \"\",\n        \"description\": \"\"\n      }\n    },\n    {\n      \"column\": \"Social_event_attendance\",\n      \"properties\": {\n        \"dtype\": \"number\",\n        \"std\": 2.8726078948864857,\n        \"min\": 0.0,\n        \"max\": 10.0,\n        \"num_unique_values\": 12,\n        \"samples\": [\n          10.0,\n          2.0\n        ],\n        \"semantic_type\": \"\",\n        \"description\": \"\"\n      }\n    },\n    {\n      \"column\": \"Going_outside\",\n      \"properties\": {\n        \"dtype\": \"number\",\n        \"std\": 2.2215973978818186,\n        \"min\": 0.0,\n        \"max\": 7.0,\n        \"num_unique_values\": 8,\n        \"samples\": [\n          0.0,\n          5.0\n        ],\n        \"semantic_type\": \"\",\n        \"description\": \"\"\n      }\n    },\n    {\n      \"column\": \"Drained_after_socializing\",\n      \"properties\": {\n        \"dtype\": \"number\",\n        \"std\": 0,\n        \"min\": 0,\n        \"max\": 1,\n        \"num_unique_values\": 2,\n        \"samples\": [\n          1,\n          0\n        ],\n        \"semantic_type\": \"\",\n        \"description\": \"\"\n      }\n    },\n    {\n      \"column\": \"Friends_circle_size\",\n      \"properties\": {\n        \"dtype\": \"number\",\n        \"std\": 4.2323404202509165,\n        \"min\": 0.0,\n        \"max\": 15.0,\n        \"num_unique_values\": 17,\n        \"samples\": [\n          13.0,\n          0.0\n        ],\n        \"semantic_type\": \"\",\n        \"description\": \"\"\n      }\n    },\n    {\n      \"column\": \"Post_frequency\",\n      \"properties\": {\n        \"dtype\": \"number\",\n        \"std\": 2.8935865769101947,\n        \"min\": 0.0,\n        \"max\": 10.0,\n        \"num_unique_values\": 12,\n        \"samples\": [\n          9.0,\n          1.0\n        ],\n        \"semantic_type\": \"\",\n        \"description\": \"\"\n      }\n    },\n    {\n      \"column\": \"Personality\",\n      \"properties\": {\n        \"dtype\": \"number\",\n        \"std\": 0,\n        \"min\": 0,\n        \"max\": 1,\n        \"num_unique_values\": 2,\n        \"samples\": [\n          1,\n          0\n        ],\n        \"semantic_type\": \"\",\n        \"description\": \"\"\n      }\n    }\n  ]\n}"
            }
          },
          "metadata": {},
          "execution_count": 23
        }
      ]
    },
    {
      "cell_type": "code",
      "source": [
        "X = personality.drop('Personality', axis=1)\n",
        "y = personality['Personality']"
      ],
      "metadata": {
        "id": "0XkLt9ViNY4K"
      },
      "execution_count": 24,
      "outputs": []
    },
    {
      "cell_type": "code",
      "source": [
        "X_train, X_test, y_train, y_test = train_test_split(X, y, test_size=0.2, random_state=2)\n",
        "X_train, X_val, y_train, y_val = train_test_split(X_train, y_train, test_size=0.25, random_state=2)"
      ],
      "metadata": {
        "id": "5UFWhoBqNmxi"
      },
      "execution_count": 25,
      "outputs": []
    },
    {
      "cell_type": "markdown",
      "source": [
        "![image.png](data:image/png;base64,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)"
      ],
      "metadata": {
        "id": "DLyskdgmu9PQ"
      }
    },
    {
      "cell_type": "markdown",
      "source": [
        "### Threefold Split"
      ],
      "metadata": {
        "id": "aejUOfljZ2F-"
      }
    },
    {
      "cell_type": "code",
      "source": [
        "val_scores = []\n",
        "neighbors = np.arange(1, 15)\n",
        "for k in neighbors:\n",
        "    knn = KNeighborsClassifier(n_neighbors=k)\n",
        "    knn.fit(X_train, y_train)\n",
        "    val_scores.append(knn.score(X_val, y_val))\n",
        "\n",
        "print(f\"best validation accuracy: {max(val_scores):.3f}\")\n",
        "best_n_neighbors = neighbors[np.argmax(val_scores)]\n",
        "print(f\"best n_neighbors: {best_n_neighbors}\")"
      ],
      "metadata": {
        "colab": {
          "base_uri": "https://localhost:8080/"
        },
        "id": "bpx-0uncO7HH",
        "outputId": "3eb1d459-0e75-487e-88e5-210f59098eaa"
      },
      "execution_count": 7,
      "outputs": [
        {
          "output_type": "stream",
          "name": "stdout",
          "text": [
            "best validation accuracy: 0.929\n",
            "best n_neighbors: 8\n"
          ]
        }
      ]
    },
    {
      "cell_type": "code",
      "source": [
        "knn = KNeighborsClassifier(n_neighbors=best_n_neighbors)\n",
        "knn.fit(X_train, y_train)\n",
        "y_pred = knn.predict(X_test)\n",
        "\n",
        "print(f\"test accuracy: {accuracy_score(y_test, y_pred):.3f}\")\n",
        "print(f\"test score: {knn.score(X_test, y_test):.3f}\")"
      ],
      "metadata": {
        "colab": {
          "base_uri": "https://localhost:8080/"
        },
        "id": "MgADJEfeSR5K",
        "outputId": "a31282e3-dca9-4ec7-e6f3-35ee60f4ea2d"
      },
      "execution_count": 8,
      "outputs": [
        {
          "output_type": "stream",
          "name": "stdout",
          "text": [
            "test accuracy: 0.933\n",
            "test score: 0.933\n"
          ]
        }
      ]
    },
    {
      "cell_type": "markdown",
      "source": [
        "### Cross-Validation"
      ],
      "metadata": {
        "id": "tjoVAVvVZtq2"
      }
    },
    {
      "cell_type": "code",
      "source": [
        "val_scores = []\n",
        "neighbors = np.arange(1, 15)\n",
        "for k in neighbors:\n",
        "    knn = KNeighborsClassifier(n_neighbors=k)\n",
        "    score = cross_val_score(knn, X_train, y_train, cv=10)\n",
        "    val_scores.append(np.mean(score))\n",
        "\n",
        "print(f\"best validation accuracy: {max(val_scores):.3f}\")\n",
        "best_n_neighbors = neighbors[np.argmax(val_scores)]\n",
        "print(f\"best n_neighbors: {best_n_neighbors}\")"
      ],
      "metadata": {
        "colab": {
          "base_uri": "https://localhost:8080/"
        },
        "id": "OdFuS2abTQLD",
        "outputId": "a39eadb7-6fa7-480d-d4dc-38319409bc36"
      },
      "execution_count": 9,
      "outputs": [
        {
          "output_type": "stream",
          "name": "stdout",
          "text": [
            "best validation accuracy: 0.935\n",
            "best n_neighbors: 9\n"
          ]
        }
      ]
    },
    {
      "cell_type": "code",
      "source": [
        "knn = KNeighborsClassifier(n_neighbors=best_n_neighbors)\n",
        "knn.fit(X_train, y_train)\n",
        "y_pred = knn.predict(X_test)\n",
        "\n",
        "print(f\"test accuracy: {accuracy_score(y_test, y_pred):.3f}\")\n",
        "print(f\"test score: {knn.score(X_test, y_test):.3f}\")"
      ],
      "metadata": {
        "colab": {
          "base_uri": "https://localhost:8080/"
        },
        "id": "Pxa5vcemaECZ",
        "outputId": "dc0f0b9e-927c-4ac8-f746-3bb8a82880f7"
      },
      "execution_count": 10,
      "outputs": [
        {
          "output_type": "stream",
          "name": "stdout",
          "text": [
            "test accuracy: 0.938\n",
            "test score: 0.938\n"
          ]
        }
      ]
    },
    {
      "cell_type": "markdown",
      "source": [
        "### Stratified K-fold"
      ],
      "metadata": {
        "id": "wElyeaeDkj1A"
      }
    },
    {
      "cell_type": "code",
      "source": [
        "skf = StratifiedKFold(n_splits=10, shuffle=True, random_state=42)\n",
        "val_scores = []\n",
        "neighbors = np.arange(1, 15)\n",
        "for k in neighbors:\n",
        "    knn = KNeighborsClassifier(n_neighbors=k)\n",
        "    score = cross_val_score(knn, X_train, y_train, cv=skf)\n",
        "    val_scores.append(np.mean(score))\n",
        "\n",
        "print(f\"best validation accuracy: {max(val_scores):.3f}\")\n",
        "best_n_neighbors = neighbors[np.argmax(val_scores)]\n",
        "print(f\"best n_neighbors: {best_n_neighbors}\")"
      ],
      "metadata": {
        "colab": {
          "base_uri": "https://localhost:8080/"
        },
        "id": "nBU08vYhaVkh",
        "outputId": "0bcff00f-e50e-4927-b117-e7a3fec330c8"
      },
      "execution_count": 26,
      "outputs": [
        {
          "output_type": "stream",
          "name": "stdout",
          "text": [
            "best validation accuracy: 0.935\n",
            "best n_neighbors: 8\n"
          ]
        }
      ]
    },
    {
      "cell_type": "code",
      "source": [
        "knn = KNeighborsClassifier(n_neighbors=best_n_neighbors)\n",
        "knn.fit(X_train, y_train)\n",
        "y_pred = knn.predict(X_test)\n",
        "\n",
        "print(f\"test accuracy: {accuracy_score(y_test, y_pred):.3f}\")\n",
        "print(f\"test score: {knn.score(X_test, y_test):.3f}\")"
      ],
      "metadata": {
        "colab": {
          "base_uri": "https://localhost:8080/"
        },
        "id": "nbEEJv8Ok6jf",
        "outputId": "ef200b61-2a28-40f0-9701-dae91594c57f"
      },
      "execution_count": 27,
      "outputs": [
        {
          "output_type": "stream",
          "name": "stdout",
          "text": [
            "test accuracy: 0.938\n",
            "test score: 0.938\n"
          ]
        }
      ]
    },
    {
      "cell_type": "markdown",
      "source": [
        "### Leave OneOut"
      ],
      "metadata": {
        "id": "5QCh9aWhm0Uq"
      }
    },
    {
      "cell_type": "code",
      "source": [
        "loo = LeaveOneOut()\n",
        "val_scores = []\n",
        "neighbors = np.arange(1, 15)\n",
        "for k in neighbors:\n",
        "    knn = KNeighborsClassifier(n_neighbors=k)\n",
        "    score = cross_val_score(knn, X_train, y_train, cv=loo)\n",
        "    val_scores.append(np.mean(score))\n",
        "\n",
        "print(f\"best validation accuracy: {max(val_scores):.3f}\")\n",
        "best_n_neighbors = neighbors[np.argmax(val_scores)]\n",
        "print(f\"best n_neighbors: {best_n_neighbors}\")"
      ],
      "metadata": {
        "colab": {
          "base_uri": "https://localhost:8080/"
        },
        "id": "Etmfd0PYk_x0",
        "outputId": "197c3f39-bcd8-4c87-caec-49adcc07f623"
      },
      "execution_count": 29,
      "outputs": [
        {
          "output_type": "stream",
          "name": "stdout",
          "text": [
            "best validation accuracy: 0.935\n",
            "best n_neighbors: 12\n"
          ]
        }
      ]
    },
    {
      "cell_type": "code",
      "source": [
        "knn = KNeighborsClassifier(n_neighbors=best_n_neighbors)\n",
        "knn.fit(X_train, y_train)\n",
        "y_pred = knn.predict(X_test)\n",
        "\n",
        "print(f\"test accuracy: {accuracy_score(y_test, y_pred):.3f}\")\n",
        "print(f\"test score: {knn.score(X_test, y_test):.3f}\")"
      ],
      "metadata": {
        "colab": {
          "base_uri": "https://localhost:8080/"
        },
        "id": "CKmOGkr3nMwY",
        "outputId": "b16cbb7b-98ca-4d99-c41f-e9b3d5ab6464"
      },
      "execution_count": 31,
      "outputs": [
        {
          "output_type": "stream",
          "name": "stdout",
          "text": [
            "test accuracy: 0.938\n",
            "test score: 0.938\n"
          ]
        }
      ]
    },
    {
      "cell_type": "markdown",
      "source": [
        "### Repeated K-fold"
      ],
      "metadata": {
        "id": "kGHrd_kCoztG"
      }
    },
    {
      "cell_type": "code",
      "source": [
        "rkf = RepeatedKFold(n_splits=5, n_repeats=10, random_state=42)\n",
        "val_scores = []\n",
        "neighbors = np.arange(1, 15)\n",
        "for k in neighbors:\n",
        "    knn = KNeighborsClassifier(n_neighbors=k)\n",
        "    score = cross_val_score(knn, X_train, y_train, cv=rkf)\n",
        "    val_scores.append(np.mean(score))\n",
        "\n",
        "print(f\"best validation accuracy: {max(val_scores):.3f}\")\n",
        "best_n_neighbors = neighbors[np.argmax(val_scores)]\n",
        "print(f\"best n_neighbors: {best_n_neighbors}\")"
      ],
      "metadata": {
        "colab": {
          "base_uri": "https://localhost:8080/"
        },
        "id": "AgISbqoMnW7S",
        "outputId": "f4038a70-eff2-43eb-a0cf-156e8f672078"
      },
      "execution_count": 33,
      "outputs": [
        {
          "output_type": "stream",
          "name": "stdout",
          "text": [
            "best validation accuracy: 0.935\n",
            "best n_neighbors: 14\n"
          ]
        }
      ]
    },
    {
      "cell_type": "code",
      "source": [
        "knn = KNeighborsClassifier(n_neighbors=best_n_neighbors)\n",
        "knn.fit(X_train, y_train)\n",
        "y_pred = knn.predict(X_test)\n",
        "\n",
        "print(f\"test accuracy: {accuracy_score(y_test, y_pred):.3f}\")\n",
        "print(f\"test score: {knn.score(X_test, y_test):.3f}\")"
      ],
      "metadata": {
        "colab": {
          "base_uri": "https://localhost:8080/"
        },
        "id": "bkElzYftpWg3",
        "outputId": "02f3a127-14da-4440-fa80-b9ccf489a5bd"
      },
      "execution_count": 34,
      "outputs": [
        {
          "output_type": "stream",
          "name": "stdout",
          "text": [
            "test accuracy: 0.938\n",
            "test score: 0.938\n"
          ]
        }
      ]
    },
    {
      "cell_type": "markdown",
      "source": [
        "### Group K-fold"
      ],
      "metadata": {
        "id": "nYms-goTrAbF"
      }
    },
    {
      "cell_type": "code",
      "metadata": {
        "colab": {
          "base_uri": "https://localhost:8080/"
        },
        "id": "a9f80485",
        "outputId": "3d085e69-3ced-4b0f-cb77-85012b92c755"
      },
      "source": [
        "groups = np.arange(len(X_train)) % 10  # Create dummy groups for demonstration\n",
        "\n",
        "gkf = GroupKFold(n_splits=10)\n",
        "val_scores = []\n",
        "neighbors = np.arange(1, 15)\n",
        "for k in neighbors:\n",
        "    knn = KNeighborsClassifier(n_neighbors=k)\n",
        "    score = cross_val_score(knn, X_train, y_train, cv=gkf, groups=groups)\n",
        "    val_scores.append(np.mean(score))\n",
        "\n",
        "print(f\"best validation accuracy: {max(val_scores):.3f}\")\n",
        "best_n_neighbors = neighbors[np.argmax(val_scores)]\n",
        "print(f\"best n_neighbors: {best_n_neighbors}\")"
      ],
      "execution_count": 39,
      "outputs": [
        {
          "output_type": "stream",
          "name": "stdout",
          "text": [
            "best validation accuracy: 0.935\n",
            "best n_neighbors: 9\n"
          ]
        }
      ]
    },
    {
      "cell_type": "code",
      "source": [
        "knn = KNeighborsClassifier(n_neighbors=best_n_neighbors)\n",
        "knn.fit(X_train, y_train)\n",
        "y_pred = knn.predict(X_test)\n",
        "\n",
        "print(f\"test accuracy: {accuracy_score(y_test, y_pred):.3f}\")\n",
        "print(f\"test score: {knn.score(X_test, y_test):.3f}\")"
      ],
      "metadata": {
        "colab": {
          "base_uri": "https://localhost:8080/"
        },
        "id": "k5ozZEYBseoQ",
        "outputId": "e1dab1a7-73b2-47de-fa53-138966c9cacf"
      },
      "execution_count": 40,
      "outputs": [
        {
          "output_type": "stream",
          "name": "stdout",
          "text": [
            "test accuracy: 0.938\n",
            "test score: 0.938\n"
          ]
        }
      ]
    },
    {
      "cell_type": "markdown",
      "source": [
        "### TimeSeries Split"
      ],
      "metadata": {
        "id": "H79BZBAitf4t"
      }
    },
    {
      "cell_type": "code",
      "source": [
        "tscv = TimeSeriesSplit(n_splits=10)\n",
        "val_scores = []\n",
        "neighbors = np.arange(1, 15)\n",
        "for k in neighbors:\n",
        "    knn = KNeighborsClassifier(n_neighbors=k)\n",
        "    score = cross_val_score(knn, X_train, y_train, cv=tscv)\n",
        "    val_scores.append(np.mean(score))\n",
        "\n",
        "print(f\"best validation accuracy: {max(val_scores):.3f}\")\n",
        "best_n_neighbors = neighbors[np.argmax(val_scores)]\n",
        "print(f\"best n_neighbors: {best_n_neighbors}\")"
      ],
      "metadata": {
        "colab": {
          "base_uri": "https://localhost:8080/"
        },
        "id": "dZVcGnI4skpL",
        "outputId": "eb606ed5-0be3-4019-a6eb-7af307b042bc"
      },
      "execution_count": 43,
      "outputs": [
        {
          "output_type": "stream",
          "name": "stdout",
          "text": [
            "best validation accuracy: 0.935\n",
            "best n_neighbors: 9\n"
          ]
        }
      ]
    },
    {
      "cell_type": "code",
      "source": [
        "knn = KNeighborsClassifier(n_neighbors=best_n_neighbors)\n",
        "knn.fit(X_train, y_train)\n",
        "y_pred = knn.predict(X_test)\n",
        "\n",
        "print(f\"test accuracy: {accuracy_score(y_test, y_pred):.3f}\")\n",
        "print(f\"test score: {knn.score(X_test, y_test):.3f}\")"
      ],
      "metadata": {
        "colab": {
          "base_uri": "https://localhost:8080/"
        },
        "id": "78EBdTW9uBBb",
        "outputId": "1e007d2f-5250-41bb-e0b9-89867a1a9b2c"
      },
      "execution_count": 44,
      "outputs": [
        {
          "output_type": "stream",
          "name": "stdout",
          "text": [
            "test accuracy: 0.938\n",
            "test score: 0.938\n"
          ]
        }
      ]
    },
    {
      "cell_type": "markdown",
      "source": [
        "### Grid SearchCV"
      ],
      "metadata": {
        "id": "L6VWb2wUwc6O"
      }
    },
    {
      "cell_type": "code",
      "source": [
        "param_grid = {'n_neighbors': np.arange(1, 15, 2)}\n",
        "grid = GridSearchCV(KNeighborsClassifier(), param_grid=param_grid, cv=10)\n",
        "grid.fit(X_train, y_train)\n",
        "print(\"best mean cross-validation score: {:.3f}\".format(grid.best_score_))\n",
        "print(\"best parameters:\", grid.best_params_)\n",
        "print(\"test-set score: {:.3f}\".format(grid.score(X_test, y_test)))"
      ],
      "metadata": {
        "colab": {
          "base_uri": "https://localhost:8080/"
        },
        "id": "VX-qBDNyuKr1",
        "outputId": "624a7d11-c561-49dc-e995-87b296749491"
      },
      "execution_count": 46,
      "outputs": [
        {
          "output_type": "stream",
          "name": "stdout",
          "text": [
            "best mean cross-validation score: 0.935\n",
            "best parameters: {'n_neighbors': np.int64(9)}\n",
            "test-set score: 0.938\n"
          ]
        }
      ]
    },
    {
      "cell_type": "code",
      "source": [],
      "metadata": {
        "id": "gBkwYRjfxEPF"
      },
      "execution_count": null,
      "outputs": []
    }
  ]
}